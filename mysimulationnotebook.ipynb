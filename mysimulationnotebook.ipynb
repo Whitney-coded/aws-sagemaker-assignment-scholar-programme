{
 "cells": [
  {
   "cell_type": "code",
   "execution_count": 1,
   "id": "5a7c6525-326d-482b-aa1f-5dfad03b3e10",
   "metadata": {},
   "outputs": [
    {
     "name": "stdout",
     "output_type": "stream",
     "text": [
      "Hello jupyter!\n"
     ]
    }
   ],
   "source": [
    "print (\"Hello jupyter!\")"
   ]
  },
  {
   "cell_type": "code",
   "execution_count": 2,
   "id": "128e9bd4-83f8-481c-ae8a-3770fa4f4681",
   "metadata": {},
   "outputs": [
    {
     "name": "stdout",
     "output_type": "stream",
     "text": [
      "This is a new cell.\n"
     ]
    }
   ],
   "source": [
    "print(\"This is a new cell.\")"
   ]
  },
  {
   "cell_type": "code",
   "execution_count": 3,
   "id": "29b73dec-d4c5-4d17-acb3-37718c58e960",
   "metadata": {},
   "outputs": [],
   "source": [
    "import time\n",
    "time.sleep(10)"
   ]
  },
  {
   "cell_type": "markdown",
   "id": "35d96c93-10d4-4e69-be39-34f50cf45eb6",
   "metadata": {},
   "source": [
    "a=12\n",
    "b=2\n",
    "print(a+b)\n",
    "print(a**b)\n",
    "print(a/b)"
   ]
  },
  {
   "cell_type": "markdown",
   "id": "0b4e56f3-aae4-4327-8310-bfae12453744",
   "metadata": {},
   "source": [
    "# Technical report\n",
    "Here is my technical report."
   ]
  },
  {
   "cell_type": "markdown",
   "id": "a9e4c219-9adc-4659-8dec-bf3e39130bdb",
   "metadata": {},
   "source": [
    "# Header1\n",
    "## Header2\n",
    "### Header3\n",
    "#### Header4"
   ]
  },
  {
   "cell_type": "code",
   "execution_count": null,
   "id": "54094f86-148d-4a2b-981b-27e3913ece22",
   "metadata": {},
   "outputs": [],
   "source": [
    "- Item 1\n",
    "- Item 2\n",
    "- Item 3"
   ]
  },
  {
   "cell_type": "markdown",
   "id": "885fb6e3-5370-4759-b602-67485278e866",
   "metadata": {},
   "source": [
    "``` python\n",
    "s= 'syntax highlighting for python'\n",
    "print(x)x```"
   ]
  },
  {
   "cell_type": "code",
   "execution_count": 37,
   "id": "478170a7-fafc-49c0-9ce3-b5044b7fc459",
   "metadata": {},
   "outputs": [
    {
     "name": "stdout",
     "output_type": "stream",
     "text": [
      "total 20\n",
      "drwx------ 2 root     root     16384 Jun 19 15:00 \u001b[0m\u001b[01;34mlost+found\u001b[0m/\n",
      "-rw-rw-r-- 1 ec2-user ec2-user  3043 Jun 19 17:24 mysimulationnotebook.ipynb\n"
     ]
    }
   ],
   "source": [
    "ls-l"
   ]
  },
  {
   "cell_type": "code",
   "execution_count": 42,
   "id": "f50c509b-6adf-4653-94e8-8d7af6540383",
   "metadata": {},
   "outputs": [
    {
     "name": "stdout",
     "output_type": "stream",
     "text": [
      "/home/ec2-user/SageMaker\n",
      "total 20\n",
      "drwx------ 2 root     root     16384 Jun 19 15:00 lost+found\n",
      "-rw-rw-r-- 1 ec2-user ec2-user  3324 Jun 19 17:28 mysimulationnotebook.ipynb\n",
      "Thu Jun 19 17:29:08 UTC 2025\n"
     ]
    }
   ],
   "source": [
    "%%bash\n",
    "pwd\n",
    "ls -l\n",
    "date"
   ]
  },
  {
   "cell_type": "code",
   "execution_count": null,
   "id": "a83a4738-4ee0-4642-9bb5-c32e6457d52a",
   "metadata": {},
   "outputs": [],
   "source": []
  }
 ],
 "metadata": {
  "kernelspec": {
   "display_name": "conda_python3",
   "language": "python",
   "name": "conda_python3"
  },
  "language_info": {
   "codemirror_mode": {
    "name": "ipython",
    "version": 3
   },
   "file_extension": ".py",
   "mimetype": "text/x-python",
   "name": "python",
   "nbconvert_exporter": "python",
   "pygments_lexer": "ipython3",
   "version": "3.10.18"
  }
 },
 "nbformat": 4,
 "nbformat_minor": 5
}
